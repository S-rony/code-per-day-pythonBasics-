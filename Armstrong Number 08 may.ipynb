{
 "cells": [
  {
   "cell_type": "code",
   "execution_count": 2,
   "id": "2935150b",
   "metadata": {},
   "outputs": [
    {
     "name": "stdout",
     "output_type": "stream",
     "text": [
      "123\n",
      "False\n"
     ]
    }
   ],
   "source": [
    "def arm(x):\n",
    "    count_x = count(x)\n",
    "    temp = x\n",
    "    sum_ = 0\n",
    "    \n",
    "    \n",
    "    while temp!= 0:\n",
    "        r = temp % 10\n",
    "        sum_ = sum_ + pow(r,count_x)\n",
    "        temp = temp //10\n",
    "        return (sum_ == x)\n",
    "#countint the number\n",
    "def count(x):\n",
    "    n = 0\n",
    "    while x!=0:\n",
    "        n = n+ 1\n",
    "        x = x // 10\n",
    "    return n\n",
    "n = int(input())\n",
    "print(arm(n))\n",
    "    "
   ]
  },
  {
   "cell_type": "markdown",
   "id": "19d4e519",
   "metadata": {},
   "source": [
    "### "
   ]
  },
  {
   "cell_type": "code",
   "execution_count": 15,
   "id": "aa03585f",
   "metadata": {},
   "outputs": [
    {
     "name": "stdout",
     "output_type": "stream",
     "text": [
      "4\n",
      "3\n",
      "2\n"
     ]
    }
   ],
   "source": [
    "\n",
    "\n",
    "\n",
    "\n"
   ]
  },
  {
   "cell_type": "code",
   "execution_count": 6,
   "id": "6aa2e738",
   "metadata": {},
   "outputs": [
    {
     "data": {
      "text/plain": [
       "1"
      ]
     },
     "execution_count": 6,
     "metadata": {},
     "output_type": "execute_result"
    }
   ],
   "source": [
    "1%10"
   ]
  },
  {
   "cell_type": "code",
   "execution_count": null,
   "id": "fd4d8f88",
   "metadata": {},
   "outputs": [],
   "source": []
  }
 ],
 "metadata": {
  "kernelspec": {
   "display_name": "Python 3",
   "language": "python",
   "name": "python3"
  },
  "language_info": {
   "codemirror_mode": {
    "name": "ipython",
    "version": 3
   },
   "file_extension": ".py",
   "mimetype": "text/x-python",
   "name": "python",
   "nbconvert_exporter": "python",
   "pygments_lexer": "ipython3",
   "version": "3.8.8"
  }
 },
 "nbformat": 4,
 "nbformat_minor": 5
}
