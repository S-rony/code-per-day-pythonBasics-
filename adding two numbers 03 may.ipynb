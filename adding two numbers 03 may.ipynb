{
 "cells": [
  {
   "cell_type": "code",
   "execution_count": 6,
   "id": "194b74c0",
   "metadata": {},
   "outputs": [
    {
     "name": "stdout",
     "output_type": "stream",
     "text": [
      "3\n",
      "4\n",
      "sum of 3 and 4 is 7 \n"
     ]
    }
   ],
   "source": [
    "num1 = int(input())\n",
    "num2 = int(input())\n",
    "sum = num1 +num2\n",
    "print(\"sum of {0} and {1} is {2} \" .format(num1,num2, sum))"
   ]
  },
  {
   "cell_type": "code",
   "execution_count": 8,
   "id": "7432acc7",
   "metadata": {},
   "outputs": [
    {
     "name": "stdout",
     "output_type": "stream",
     "text": [
      "first number : 1\n",
      "Second number: 2\n",
      "sum: 12\n"
     ]
    }
   ],
   "source": [
    "num1 = input(\"first number : \")\n",
    "num2 = input(\"Second number: \")\n",
    "sum = int (num1 +  num2)\n",
    "print(\"sum:\", sum)"
   ]
  },
  {
   "cell_type": "markdown",
   "id": "126ce6f8",
   "metadata": {},
   "source": [
    "### power of x"
   ]
  },
  {
   "cell_type": "code",
   "execution_count": null,
   "id": "f9c1702e",
   "metadata": {},
   "outputs": [],
   "source": [
    "x = int(input())\n",
    "n = int(input())\n",
    "power = \n"
   ]
  }
 ],
 "metadata": {
  "kernelspec": {
   "display_name": "Python 3",
   "language": "python",
   "name": "python3"
  },
  "language_info": {
   "codemirror_mode": {
    "name": "ipython",
    "version": 3
   },
   "file_extension": ".py",
   "mimetype": "text/x-python",
   "name": "python",
   "nbconvert_exporter": "python",
   "pygments_lexer": "ipython3",
   "version": "3.8.8"
  }
 },
 "nbformat": 4,
 "nbformat_minor": 5
}
