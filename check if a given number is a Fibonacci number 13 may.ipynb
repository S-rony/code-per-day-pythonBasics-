{
 "cells": [
  {
   "cell_type": "code",
   "execution_count": 18,
   "id": "aae94513",
   "metadata": {},
   "outputs": [
    {
     "ename": "SyntaxError",
     "evalue": "invalid syntax (<ipython-input-18-a6e7ae0ef722>, line 2)",
     "output_type": "error",
     "traceback": [
      "\u001b[1;36m  File \u001b[1;32m\"<ipython-input-18-a6e7ae0ef722>\"\u001b[1;36m, line \u001b[1;32m2\u001b[0m\n\u001b[1;33m    def isPerfectSquare(5):\u001b[0m\n\u001b[1;37m                        ^\u001b[0m\n\u001b[1;31mSyntaxError\u001b[0m\u001b[1;31m:\u001b[0m invalid syntax\n"
     ]
    }
   ],
   "source": [
    "import math\n",
    "def isPerfectSquare(x):\n",
    "    s = int(math.sqrt(x))\n",
    "    return s*s == x\n",
    "n = int(input())\n",
    "r1= 5*(n*n)+4\n",
    "r2= 5*(n*n)-4\n",
    "\n",
    "\n",
    "if isPerfectSquare(r1) or isPerfectSquare(r2):\n",
    "    print(n, \"is fib number\")\n",
    "else:\n",
    "    print(\"not a fib no.\")\n",
    "# if(isFib(i) == True):\n",
    "#     print(i,\"it is fib\")\n",
    "# else:\n",
    "#     print()"
   ]
  },
  {
   "cell_type": "code",
   "execution_count": null,
   "id": "8ec69724",
   "metadata": {},
   "outputs": [],
   "source": [
    "# python program to check if x is a perfect square\n",
    "import math\n",
    " \n",
    "# A utility function that returns true if x is perfect square\n",
    "def isPerfectSquare(x):\n",
    "    s = int(math.sqrt(x))\n",
    "    return s*s == x\n",
    " \n",
    "# Returns true if n is a Fibonacci Number, else false\n",
    "def isFibonacci(n):\n",
    " \n",
    "    # n is Fibonacci if one of 5*n*n + 4 or 5*n*n - 4 or both\n",
    "    # is a perfect square\n",
    "    return isPerfectSquare(5*n*n + 4) or isPerfectSquare(5*n*n - 4)\n",
    "    \n",
    "# A utility function to test above functions\n",
    "for i in range(1,11):\n",
    "     if (isFibonacci(i) == True):\n",
    "         print (i,\"is a Fibonacci Number\")\n",
    "     else:\n",
    "         print (i,\"is a not Fibonacci Number \")"
   ]
  },
  {
   "cell_type": "code",
   "execution_count": 30,
   "id": "7c6b316c",
   "metadata": {},
   "outputs": [
    {
     "name": "stdout",
     "output_type": "stream",
     "text": [
      "34\n",
      "34 fib number\n"
     ]
    }
   ],
   "source": [
    "import math\n",
    "def isPerfectsq(x):\n",
    "    f = int(math.sqrt(x))\n",
    "    return f*f == x\n",
    "n = int(input())\n",
    "result1 = n*n*5+4\n",
    "result2 = n*n*5-4\n",
    "if isPerfectsq(result1) or isPerfectsq(result2):\n",
    "    print(n,\"fibonacci number\")\n",
    "else:\n",
    "    print(\"not fibonacii number\")\n",
    "\n",
    "\n",
    "\n",
    "\n"
   ]
  },
  {
   "cell_type": "code",
   "execution_count": null,
   "id": "b1f0a9ef",
   "metadata": {},
   "outputs": [],
   "source": []
  }
 ],
 "metadata": {
  "kernelspec": {
   "display_name": "Python 3",
   "language": "python",
   "name": "python3"
  },
  "language_info": {
   "codemirror_mode": {
    "name": "ipython",
    "version": 3
   },
   "file_extension": ".py",
   "mimetype": "text/x-python",
   "name": "python",
   "nbconvert_exporter": "python",
   "pygments_lexer": "ipython3",
   "version": "3.8.8"
  }
 },
 "nbformat": 4,
 "nbformat_minor": 5
}
