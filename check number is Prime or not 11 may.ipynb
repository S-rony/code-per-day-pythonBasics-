{
 "cells": [
  {
   "cell_type": "code",
   "execution_count": 14,
   "id": "b2ca7fbf",
   "metadata": {},
   "outputs": [
    {
     "name": "stdout",
     "output_type": "stream",
     "text": [
      "-1\n",
      "False\n"
     ]
    }
   ],
   "source": [
    "n = int(input())\n",
    "if n > 1:\n",
    "    if n % 2 == 0 and n%n == 0:\n",
    "        print(False)\n",
    "    else:\n",
    "        print(True)\n",
    "else:\n",
    "    print(False)"
   ]
  },
  {
   "cell_type": "code",
   "execution_count": 13,
   "id": "a6a6b088",
   "metadata": {},
   "outputs": [
    {
     "name": "stdout",
     "output_type": "stream",
     "text": [
      "false\n"
     ]
    }
   ],
   "source": [
    "from math import sqrt\n",
    "# n is the number to be check whether it is prime or not\n",
    "n = 1\n",
    "prime_flag = 0\n",
    "  \n",
    "if(n > 1):\n",
    "    for i in range(2, int(sqrt(n)) + 1):\n",
    "        if (n % i == 0):\n",
    "            prime_flag = 1\n",
    "            break\n",
    "    if (prime_flag == 0):\n",
    "        print(\"true\")\n",
    "    else:\n",
    "        print(\"false\")\n",
    "else:\n",
    "    print(\"false\")"
   ]
  },
  {
   "cell_type": "code",
   "execution_count": null,
   "id": "af8d5317",
   "metadata": {},
   "outputs": [],
   "source": []
  }
 ],
 "metadata": {
  "kernelspec": {
   "display_name": "Python 3",
   "language": "python",
   "name": "python3"
  },
  "language_info": {
   "codemirror_mode": {
    "name": "ipython",
    "version": 3
   },
   "file_extension": ".py",
   "mimetype": "text/x-python",
   "name": "python",
   "nbconvert_exporter": "python",
   "pygments_lexer": "ipython3",
   "version": "3.8.8"
  }
 },
 "nbformat": 4,
 "nbformat_minor": 5
}
