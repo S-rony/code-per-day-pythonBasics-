{
 "cells": [
  {
   "cell_type": "code",
   "execution_count": 9,
   "id": "07ed32e8",
   "metadata": {},
   "outputs": [
    {
     "name": "stdout",
     "output_type": "stream",
     "text": [
      "6\n",
      "720\n"
     ]
    }
   ],
   "source": [
    "n = int(input())\n",
    "if n < 0:\n",
    "    print(0)\n",
    "elif n == 0 and n ==1:\n",
    "    print(1)\n",
    "else:\n",
    "    fact = 1\n",
    "    while n>1:\n",
    "        fact = fact*(n)\n",
    "        n-=1\n",
    "    print(fact)"
   ]
  },
  {
   "cell_type": "code",
   "execution_count": 11,
   "id": "d49ec997",
   "metadata": {},
   "outputs": [
    {
     "name": "stdout",
     "output_type": "stream",
     "text": [
      "5\n",
      "120\n"
     ]
    }
   ],
   "source": [
    "def fact(n):\n",
    "    if n==1 or n ==0:\n",
    "        return 1\n",
    "    else:\n",
    "        return n*fact(n-1)\n",
    "\n",
    "\n",
    "\n",
    "\n",
    "n = int(input())\n",
    "print(fact(n))"
   ]
  },
  {
   "cell_type": "code",
   "execution_count": null,
   "id": "bcf1eb42",
   "metadata": {},
   "outputs": [],
   "source": []
  }
 ],
 "metadata": {
  "kernelspec": {
   "display_name": "Python 3",
   "language": "python",
   "name": "python3"
  },
  "language_info": {
   "codemirror_mode": {
    "name": "ipython",
    "version": 3
   },
   "file_extension": ".py",
   "mimetype": "text/x-python",
   "name": "python",
   "nbconvert_exporter": "python",
   "pygments_lexer": "ipython3",
   "version": "3.8.8"
  }
 },
 "nbformat": 4,
 "nbformat_minor": 5
}
