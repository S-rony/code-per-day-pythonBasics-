{
 "cells": [
  {
   "cell_type": "code",
   "execution_count": 8,
   "id": "4653d252",
   "metadata": {},
   "outputs": [
    {
     "name": "stdout",
     "output_type": "stream",
     "text": [
      "3\n",
      "Area is 28.26\n",
      "Area is 28\n",
      "Area is 28.260000\n"
     ]
    }
   ],
   "source": [
    "#area = pi * r2\n",
    "\n",
    "def findArea(r):\n",
    "    pi = 3.14\n",
    "    area = pi * pow(r,2)\n",
    "    return area\n",
    "\n",
    "n = int(input())\n",
    "print(\"Area is {0}\" .format(findArea(n)))\n",
    "print(\"Area is %.f\" % findArea(n))\n",
    "print(\"Area is %.6f\" % findArea(n))"
   ]
  },
  {
   "cell_type": "code",
   "execution_count": null,
   "id": "839fa6cf",
   "metadata": {},
   "outputs": [],
   "source": []
  }
 ],
 "metadata": {
  "kernelspec": {
   "display_name": "Python 3",
   "language": "python",
   "name": "python3"
  },
  "language_info": {
   "codemirror_mode": {
    "name": "ipython",
    "version": 3
   },
   "file_extension": ".py",
   "mimetype": "text/x-python",
   "name": "python",
   "nbconvert_exporter": "python",
   "pygments_lexer": "ipython3",
   "version": "3.8.8"
  }
 },
 "nbformat": 4,
 "nbformat_minor": 5
}
