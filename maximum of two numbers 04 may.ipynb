{
 "cells": [
  {
   "cell_type": "code",
   "execution_count": 19,
   "id": "7f356b61",
   "metadata": {},
   "outputs": [
    {
     "name": "stdout",
     "output_type": "stream",
     "text": [
      "type the first number3\n",
      "type the secind number2\n",
      "the maximum:3\n"
     ]
    }
   ],
   "source": [
    "a = int(input(\"type the first number\"))\n",
    "b = int(input(\"type the second number\"))\n",
    "if a> b:\n",
    "   print(\"the maximum:{0}\".format(a))\n",
    "else:\n",
    "    print(\"the maximum:{0}\".format(b))"
   ]
  },
  {
   "cell_type": "code",
   "execution_count": 25,
   "id": "dcf91504",
   "metadata": {},
   "outputs": [
    {
     "name": "stdout",
     "output_type": "stream",
     "text": [
      "type the first number2\n",
      "type the second number3\n",
      "the maximum:3\n"
     ]
    }
   ],
   "source": [
    "a = int(input(\"type the first number\"))\n",
    "b = int(input(\"type the second number\"))\n",
    "print('the maximum:{0}'.format(max(a,b)))"
   ]
  },
  {
   "cell_type": "code",
   "execution_count": 28,
   "id": "7b732ab0",
   "metadata": {},
   "outputs": [
    {
     "name": "stdout",
     "output_type": "stream",
     "text": [
      "type the first number3\n",
      "type the second number2\n",
      "the maximum:3\n"
     ]
    }
   ],
   "source": [
    "a = int(input(\"type the first number\"))\n",
    "b = int(input(\"type the second number\"))\n",
    "print('the maximum:{0}'.format(a if a>=b else b))"
   ]
  },
  {
   "cell_type": "code",
   "execution_count": null,
   "id": "bc2cb98d",
   "metadata": {},
   "outputs": [],
   "source": []
  },
  {
   "cell_type": "code",
   "execution_count": null,
   "id": "bd9de5a9",
   "metadata": {},
   "outputs": [],
   "source": []
  }
 ],
 "metadata": {
  "kernelspec": {
   "display_name": "Python 3",
   "language": "python",
   "name": "python3"
  },
  "language_info": {
   "codemirror_mode": {
    "name": "ipython",
    "version": 3
   },
   "file_extension": ".py",
   "mimetype": "text/x-python",
   "name": "python",
   "nbconvert_exporter": "python",
   "pygments_lexer": "ipython3",
   "version": "3.8.8"
  }
 },
 "nbformat": 4,
 "nbformat_minor": 5
}
