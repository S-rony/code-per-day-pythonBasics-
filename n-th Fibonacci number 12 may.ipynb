{
 "cells": [
  {
   "cell_type": "code",
   "execution_count": 6,
   "id": "9eb8f1d7",
   "metadata": {},
   "outputs": [
    {
     "name": "stdout",
     "output_type": "stream",
     "text": [
      "1\n"
     ]
    }
   ],
   "source": [
    "#fn = fn-1 + fn-2\n",
    "#fo = 0 and f1 = 1\n",
    "def Fibonacci(n):\n",
    "    if n <= 0:\n",
    "        print(\"Incorrect input\")\n",
    "    elif n == 1:\n",
    "        return 0\n",
    "    elif n == 2:\n",
    "        return 1\n",
    "    else:\n",
    "        return Fibonacci(n-1)+fibonacci(n-2)\n",
    "print(fibonacci(2))"
   ]
  },
  {
   "cell_type": "code",
   "execution_count": 11,
   "id": "3a8c9a4a",
   "metadata": {},
   "outputs": [
    {
     "name": "stdout",
     "output_type": "stream",
     "text": [
      "34\n"
     ]
    }
   ],
   "source": [
    "def feb(n):\n",
    "    if n <=0:\n",
    "        print(\"Invalid input\")\n",
    "    elif n == 1:\n",
    "        return 0\n",
    "    elif n == 2:\n",
    "        return 1\n",
    "    else:\n",
    "        return feb(n-1) + feb(n-2)\n",
    "print(feb(10))"
   ]
  },
  {
   "cell_type": "code",
   "execution_count": null,
   "id": "28eae808",
   "metadata": {},
   "outputs": [],
   "source": []
  }
 ],
 "metadata": {
  "kernelspec": {
   "display_name": "Python 3",
   "language": "python",
   "name": "python3"
  },
  "language_info": {
   "codemirror_mode": {
    "name": "ipython",
    "version": 3
   },
   "file_extension": ".py",
   "mimetype": "text/x-python",
   "name": "python",
   "nbconvert_exporter": "python",
   "pygments_lexer": "ipython3",
   "version": "3.8.8"
  }
 },
 "nbformat": 4,
 "nbformat_minor": 5
}
