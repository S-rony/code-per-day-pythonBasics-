{
 "cells": [
  {
   "cell_type": "markdown",
   "id": "bf33df60",
   "metadata": {},
   "source": [
    "Simple interest formula is given by: Simple Interest = (P x T x R)/100 Where, P is the principle amount T is the time and R is the rate"
   ]
  },
  {
   "cell_type": "code",
   "execution_count": 8,
   "id": "4c045b8d",
   "metadata": {},
   "outputs": [
    {
     "name": "stdout",
     "output_type": "stream",
     "text": [
      "Principle 10\n",
      "Rate 10\n",
      "Time 1\n",
      "Simple interest 1.0\n"
     ]
    }
   ],
   "source": [
    "p = float(input(\"Principle \"))\n",
    "r = float(input(\"Rate \"))\n",
    "t = float(input(\"Time \"))\n",
    "simple_interest = (p*r*t)/100\n",
    "print(\"Simple interest\",simple_interest)\n"
   ]
  },
  {
   "cell_type": "code",
   "execution_count": 14,
   "id": "6c349508",
   "metadata": {},
   "outputs": [
    {
     "name": "stdout",
     "output_type": "stream",
     "text": [
      "1.0\n"
     ]
    }
   ],
   "source": [
    "def simple_interest(p,r,t):\n",
    "    si = (p*r*t)/100\n",
    "    print(si)\n",
    "    return si\n",
    "\n",
    "\n",
    "\n",
    "simple_interest(10,10,1)\n"
   ]
  },
  {
   "cell_type": "code",
   "execution_count": null,
   "id": "dd3463e1",
   "metadata": {},
   "outputs": [],
   "source": []
  }
 ],
 "metadata": {
  "kernelspec": {
   "display_name": "Python 3",
   "language": "python",
   "name": "python3"
  },
  "language_info": {
   "codemirror_mode": {
    "name": "ipython",
    "version": 3
   },
   "file_extension": ".py",
   "mimetype": "text/x-python",
   "name": "python",
   "nbconvert_exporter": "python",
   "pygments_lexer": "ipython3",
   "version": "3.8.8"
  }
 },
 "nbformat": 4,
 "nbformat_minor": 5
}
